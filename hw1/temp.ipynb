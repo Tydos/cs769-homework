{
 "cells": [
  {
   "cell_type": "code",
   "execution_count": 8,
   "id": "fe242b32",
   "metadata": {},
   "outputs": [],
   "source": [
    "import torch\n",
    "import torch.nn as nn\n",
    "from torch.nn.utils.rnn import pad_sequence"
   ]
  },
  {
   "cell_type": "code",
   "execution_count": 9,
   "id": "97d29a60",
   "metadata": {},
   "outputs": [],
   "source": [
    "def pad_sentences(sents, pad_id):\n",
    "    \"\"\"\n",
    "    Adding pad_id to sentences in a mini-batch to ensure that \n",
    "    all augmented sentences in a mini-batch have the same word length.\n",
    "    Args:\n",
    "        sents: list(list(int)), a list of a list of word ids\n",
    "        pad_id: the word id of the \"<pad>\" token\n",
    "    Return:\n",
    "        aug_sents: list(list(int)), |s_1| == |s_i|, for s_i in sents\n",
    "    \"\"\"\n",
    "\n",
    "    sequences = [torch.tensor(seq) for seq in sents]\n",
    "    aug_sents = pad_sequence(sequences, batch_first=True, padding_value=pad_id)\n",
    "    return aug_sents"
   ]
  },
  {
   "cell_type": "code",
   "execution_count": 10,
   "id": "a5983a88",
   "metadata": {},
   "outputs": [
    {
     "data": {
      "text/plain": [
       "tensor([[3, 3, 4, 2, 1, 3]])"
      ]
     },
     "execution_count": 10,
     "metadata": {},
     "output_type": "execute_result"
    }
   ],
   "source": [
    "pad_sentences([[3,3,4,2,1,3]],3)"
   ]
  },
  {
   "cell_type": "code",
   "execution_count": null,
   "id": "d6f38a53",
   "metadata": {},
   "outputs": [],
   "source": []
  },
  {
   "cell_type": "code",
   "execution_count": null,
   "id": "a622ce23",
   "metadata": {},
   "outputs": [],
   "source": []
  },
  {
   "cell_type": "code",
   "execution_count": 11,
   "id": "ed0071be",
   "metadata": {},
   "outputs": [
    {
     "name": "stdout",
     "output_type": "stream",
     "text": [
      "tensor([[3, 3, 4, 2, 1, 3]])\n",
      "tensor([[1, 2, 3],\n",
      "        [4, 5, 0]])\n",
      "tensor([[ 7,  9,  9,  9],\n",
      "        [ 8,  9, 10, 11]])\n",
      "empty batch error: RuntimeError received an empty list of sequences\n"
     ]
    }
   ],
   "source": [
    "# Additional tests for pad_sentences\n",
    "print(pad_sentences([[3,3,4,2,1,3]], 3))  # single sequence, no padding\n",
    "print(pad_sentences([[1,2,3],[4,5]], 0))  # differing lengths -> pad with 0\n",
    "print(pad_sentences([[7],[8,9,10,11]], 9))  # differing lengths, custom pad_id\n",
    "# Edge case: empty batch\n",
    "try:\n",
    "    print(pad_sentences([], 0))\n",
    "except Exception as e:\n",
    "    print('empty batch error:', type(e).__name__, e)\n"
   ]
  }
 ],
 "metadata": {
  "kernelspec": {
   "display_name": "env1",
   "language": "python",
   "name": "env1"
  },
  "language_info": {
   "codemirror_mode": {
    "name": "ipython",
    "version": 3
   },
   "file_extension": ".py",
   "mimetype": "text/x-python",
   "name": "python",
   "nbconvert_exporter": "python",
   "pygments_lexer": "ipython3",
   "version": "3.11.1"
  }
 },
 "nbformat": 4,
 "nbformat_minor": 5
}
